{
 "cells": [
  {
   "cell_type": "markdown",
   "metadata": {},
   "source": [
    "\n",
    "# DESAFIO - EDA - Pontuação de crédito de um Banco SaaS (PT e EN)\n",
    "Detalhes\n",
    "\n",
    "O desafio proposto pelo AceleraDev da Codenation é comparar os valores da média, mediana, moda e desvio padrão da pontuação de crédito para cada estado do dataset.\n",
    "\n",
    "Entretanto, além do que foi proposto, fiquei curioso para saber o quais informações estes dados escondem e resolvi fazer uma análise mais profunda deste dataset(EDA: Análise exploratoria dos Dados). O que estes números levantados realmente podem nos dizer? Que tipos de informações relevantes conseguiríamos extrair deles e passar à àrea de negócios?\n",
    "\n",
    "<img src=\"eda.png\" width=\"460\">\n",
    "\n",
    "Para isto foi disponibilizado um dataset referente as informações de uma base de clientes de um banco SaaS. Abaixo segue o dicionário explicativo de cada variável:\n",
    "\n",
    "‘id’: Identificador do cliente; ‘sobrenome’: Sobrenome do cliente; ‘pontuacao_credito’: Pontuação de crédito do cliente (quanto maior, melhor o cliente geralmente); \n",
    "\n",
    "‘estado_residencia’: Estado de residência do cliente; ‘genero’: Gênero do cliente; \n",
    "\n",
    "‘nivel_estabilidade’: Nível de estabilidade do cliente; ‘saldo_conta’: Saldo disponível na conta do cliente; \n",
    "\n",
    "‘numero_produtos’: Número de produtos que o cliente consome; ‘possui_cartao_de_credito’: Possui um cartão de crédito cadastrado; ‘membro_ativo’: Membro acessa e consome frequentemente.\n",
    "\n",
    "--\n",
    "### EN\n",
    "The challenge proposed by Codenation's AceleraDev program  is compare the values of average, median, mode and standard deviation from de credit score to each state about this dataset.\n",
    "However, beyond the proposal, I was curious to know more about this dataset and what information it hid. So I decided to do a deeply analysis about them (EDA: Exploratory data Analysis). What these numbers can really teel us? What kind of relevant informations we can extract from them and show to the business area?\n",
    "In order to get the anwser, was given to us a dataset which contains informations about customers of a SaaS Bank. Below has the dictionary with the explanation of the each variable.\n",
    "\n",
    "‘id’: customer identification; ‘sobrenome’: surname, ‘pontuacao_credito’: customer credit score  (bigger, generally the customer is better); \n",
    "\n",
    "‘estado_residencia’: State of residence; ‘genero’: gender; \n",
    "\n",
    "‘nivel_estabilidade’: customer stability level; ‘saldo_conta’: customer account balance available; \n",
    "\n",
    "‘numero_produtos’: number of products the customer consumes; ‘possui_cartao_de_credito’: if the customer has a credit card; ‘membro_ativo’: active member - If the customer is an active member.\n",
    "\n",
    "========"
   ]
  },
  {
   "cell_type": "markdown",
   "metadata": {},
   "source": [
    "Antes de tudo, vamos importar os pacotes necessários para a nossa análise.\n",
    "Iremos importar o dataset com os dados e daremos uma olhadas nas primeiras linhas para averiguar que tipos de informações temos. \n",
    "\n",
    "--\n",
    "\n",
    "First of all, let's import the necessary packages to do our analysis.\n",
    "We will import the dataset and will look the first rows to see what kind of informations do We have."
   ]
  },
  {
   "cell_type": "code",
   "execution_count": 1,
   "metadata": {},
   "outputs": [],
   "source": [
    "import pandas as pd\n",
    "import numpy as np\n",
    "import seaborn as sns\n",
    "import matplotlib.pyplot as plt\n",
    "%matplotlib inline"
   ]
  },
  {
   "cell_type": "code",
   "execution_count": 2,
   "metadata": {},
   "outputs": [
    {
     "data": {
      "text/html": [
       "<div>\n",
       "<style scoped>\n",
       "    .dataframe tbody tr th:only-of-type {\n",
       "        vertical-align: middle;\n",
       "    }\n",
       "\n",
       "    .dataframe tbody tr th {\n",
       "        vertical-align: top;\n",
       "    }\n",
       "\n",
       "    .dataframe thead th {\n",
       "        text-align: right;\n",
       "    }\n",
       "</style>\n",
       "<table border=\"1\" class=\"dataframe\">\n",
       "  <thead>\n",
       "    <tr style=\"text-align: right;\">\n",
       "      <th></th>\n",
       "      <th>RowNumber</th>\n",
       "      <th>id</th>\n",
       "      <th>sobrenome</th>\n",
       "      <th>pontuacao_credito</th>\n",
       "      <th>estado_residencia</th>\n",
       "      <th>genero</th>\n",
       "      <th>idade</th>\n",
       "      <th>nivel_estabilidade</th>\n",
       "      <th>saldo_conta</th>\n",
       "      <th>numero_produtos</th>\n",
       "      <th>possui_cartao_de_credito</th>\n",
       "      <th>membro_ativo</th>\n",
       "    </tr>\n",
       "  </thead>\n",
       "  <tbody>\n",
       "    <tr>\n",
       "      <th>0</th>\n",
       "      <td>1</td>\n",
       "      <td>e7f44fcbd380d4cef7e6c232cc7e37895c3fd197</td>\n",
       "      <td>6d6e0aa1b9b413e442e2fb68df14b4fc3f91de50</td>\n",
       "      <td>619</td>\n",
       "      <td>SC</td>\n",
       "      <td>F</td>\n",
       "      <td>42</td>\n",
       "      <td>2</td>\n",
       "      <td>0.00</td>\n",
       "      <td>1</td>\n",
       "      <td>1</td>\n",
       "      <td>1</td>\n",
       "    </tr>\n",
       "    <tr>\n",
       "      <th>1</th>\n",
       "      <td>2</td>\n",
       "      <td>28dcb083ad90512da16b9430085c2cddb8ca5e12</td>\n",
       "      <td>48e1ad846796fa314f1b4a6702b83343eb5482c5</td>\n",
       "      <td>608</td>\n",
       "      <td>RS</td>\n",
       "      <td>F</td>\n",
       "      <td>41</td>\n",
       "      <td>1</td>\n",
       "      <td>83807.86</td>\n",
       "      <td>1</td>\n",
       "      <td>0</td>\n",
       "      <td>1</td>\n",
       "    </tr>\n",
       "    <tr>\n",
       "      <th>2</th>\n",
       "      <td>3</td>\n",
       "      <td>774bc378f787438c9c7594e536787d07a097a54b</td>\n",
       "      <td>f2b29d5d934de615812b697132e767dea0f1e9e2</td>\n",
       "      <td>502</td>\n",
       "      <td>SC</td>\n",
       "      <td>F</td>\n",
       "      <td>42</td>\n",
       "      <td>8</td>\n",
       "      <td>159660.80</td>\n",
       "      <td>3</td>\n",
       "      <td>1</td>\n",
       "      <td>0</td>\n",
       "    </tr>\n",
       "    <tr>\n",
       "      <th>3</th>\n",
       "      <td>4</td>\n",
       "      <td>043a71326f7096de155e7f0c559dc62b5e4b7239</td>\n",
       "      <td>85d5c9da7cddd8109ad32a6c348fe2bb10bf99f2</td>\n",
       "      <td>699</td>\n",
       "      <td>SC</td>\n",
       "      <td>F</td>\n",
       "      <td>39</td>\n",
       "      <td>1</td>\n",
       "      <td>0.00</td>\n",
       "      <td>2</td>\n",
       "      <td>0</td>\n",
       "      <td>0</td>\n",
       "    </tr>\n",
       "    <tr>\n",
       "      <th>4</th>\n",
       "      <td>5</td>\n",
       "      <td>37b3bb8ca243955fb3605ec7e1c2a4607cdb3b22</td>\n",
       "      <td>ddc89c837a6933639de75f28171057060bd322df</td>\n",
       "      <td>850</td>\n",
       "      <td>RS</td>\n",
       "      <td>F</td>\n",
       "      <td>43</td>\n",
       "      <td>2</td>\n",
       "      <td>125510.82</td>\n",
       "      <td>1</td>\n",
       "      <td>1</td>\n",
       "      <td>1</td>\n",
       "    </tr>\n",
       "  </tbody>\n",
       "</table>\n",
       "</div>"
      ],
      "text/plain": [
       "   RowNumber                                        id  \\\n",
       "0          1  e7f44fcbd380d4cef7e6c232cc7e37895c3fd197   \n",
       "1          2  28dcb083ad90512da16b9430085c2cddb8ca5e12   \n",
       "2          3  774bc378f787438c9c7594e536787d07a097a54b   \n",
       "3          4  043a71326f7096de155e7f0c559dc62b5e4b7239   \n",
       "4          5  37b3bb8ca243955fb3605ec7e1c2a4607cdb3b22   \n",
       "\n",
       "                                  sobrenome  pontuacao_credito  \\\n",
       "0  6d6e0aa1b9b413e442e2fb68df14b4fc3f91de50                619   \n",
       "1  48e1ad846796fa314f1b4a6702b83343eb5482c5                608   \n",
       "2  f2b29d5d934de615812b697132e767dea0f1e9e2                502   \n",
       "3  85d5c9da7cddd8109ad32a6c348fe2bb10bf99f2                699   \n",
       "4  ddc89c837a6933639de75f28171057060bd322df                850   \n",
       "\n",
       "  estado_residencia genero  idade  nivel_estabilidade  saldo_conta  \\\n",
       "0                SC      F     42                   2         0.00   \n",
       "1                RS      F     41                   1     83807.86   \n",
       "2                SC      F     42                   8    159660.80   \n",
       "3                SC      F     39                   1         0.00   \n",
       "4                RS      F     43                   2    125510.82   \n",
       "\n",
       "   numero_produtos  possui_cartao_de_credito  membro_ativo  \n",
       "0                1                         1             1  \n",
       "1                1                         0             1  \n",
       "2                3                         1             0  \n",
       "3                2                         0             0  \n",
       "4                1                         1             1  "
      ]
     },
     "execution_count": 2,
     "metadata": {},
     "output_type": "execute_result"
    }
   ],
   "source": [
    "df = pd.read_csv(\"desafio1.csv\")\n",
    "df.head()"
   ]
  },
  {
   "cell_type": "markdown",
   "metadata": {},
   "source": [
    "Como podemos ver rapidamente, temos duas colunas que são desnecessárias: 'RowNumber'(que deveria ser um indice antigo) e 'sobrenome'(porém, como temos também o 'id' este nos basta). Por isso, excluiremos elas do nosso dataset.\n",
    "\n",
    "--\n",
    "\n",
    "As We can see quickly, We have two unnecessary columns: 'RowNumber' (should be a old index) and 'sobrenome'(but, as we have  'id' colum too, it is enough). Therefore, We will drop them from our dataset."
   ]
  },
  {
   "cell_type": "code",
   "execution_count": 3,
   "metadata": {
    "scrolled": true
   },
   "outputs": [
    {
     "data": {
      "text/html": [
       "<div>\n",
       "<style scoped>\n",
       "    .dataframe tbody tr th:only-of-type {\n",
       "        vertical-align: middle;\n",
       "    }\n",
       "\n",
       "    .dataframe tbody tr th {\n",
       "        vertical-align: top;\n",
       "    }\n",
       "\n",
       "    .dataframe thead th {\n",
       "        text-align: right;\n",
       "    }\n",
       "</style>\n",
       "<table border=\"1\" class=\"dataframe\">\n",
       "  <thead>\n",
       "    <tr style=\"text-align: right;\">\n",
       "      <th></th>\n",
       "      <th>id</th>\n",
       "      <th>pontuacao_credito</th>\n",
       "      <th>estado_residencia</th>\n",
       "      <th>genero</th>\n",
       "      <th>idade</th>\n",
       "      <th>nivel_estabilidade</th>\n",
       "      <th>saldo_conta</th>\n",
       "      <th>numero_produtos</th>\n",
       "      <th>possui_cartao_de_credito</th>\n",
       "      <th>membro_ativo</th>\n",
       "    </tr>\n",
       "  </thead>\n",
       "  <tbody>\n",
       "    <tr>\n",
       "      <th>0</th>\n",
       "      <td>e7f44fcbd380d4cef7e6c232cc7e37895c3fd197</td>\n",
       "      <td>619</td>\n",
       "      <td>SC</td>\n",
       "      <td>F</td>\n",
       "      <td>42</td>\n",
       "      <td>2</td>\n",
       "      <td>0.00</td>\n",
       "      <td>1</td>\n",
       "      <td>1</td>\n",
       "      <td>1</td>\n",
       "    </tr>\n",
       "    <tr>\n",
       "      <th>1</th>\n",
       "      <td>28dcb083ad90512da16b9430085c2cddb8ca5e12</td>\n",
       "      <td>608</td>\n",
       "      <td>RS</td>\n",
       "      <td>F</td>\n",
       "      <td>41</td>\n",
       "      <td>1</td>\n",
       "      <td>83807.86</td>\n",
       "      <td>1</td>\n",
       "      <td>0</td>\n",
       "      <td>1</td>\n",
       "    </tr>\n",
       "    <tr>\n",
       "      <th>2</th>\n",
       "      <td>774bc378f787438c9c7594e536787d07a097a54b</td>\n",
       "      <td>502</td>\n",
       "      <td>SC</td>\n",
       "      <td>F</td>\n",
       "      <td>42</td>\n",
       "      <td>8</td>\n",
       "      <td>159660.80</td>\n",
       "      <td>3</td>\n",
       "      <td>1</td>\n",
       "      <td>0</td>\n",
       "    </tr>\n",
       "    <tr>\n",
       "      <th>3</th>\n",
       "      <td>043a71326f7096de155e7f0c559dc62b5e4b7239</td>\n",
       "      <td>699</td>\n",
       "      <td>SC</td>\n",
       "      <td>F</td>\n",
       "      <td>39</td>\n",
       "      <td>1</td>\n",
       "      <td>0.00</td>\n",
       "      <td>2</td>\n",
       "      <td>0</td>\n",
       "      <td>0</td>\n",
       "    </tr>\n",
       "    <tr>\n",
       "      <th>4</th>\n",
       "      <td>37b3bb8ca243955fb3605ec7e1c2a4607cdb3b22</td>\n",
       "      <td>850</td>\n",
       "      <td>RS</td>\n",
       "      <td>F</td>\n",
       "      <td>43</td>\n",
       "      <td>2</td>\n",
       "      <td>125510.82</td>\n",
       "      <td>1</td>\n",
       "      <td>1</td>\n",
       "      <td>1</td>\n",
       "    </tr>\n",
       "  </tbody>\n",
       "</table>\n",
       "</div>"
      ],
      "text/plain": [
       "                                         id  pontuacao_credito  \\\n",
       "0  e7f44fcbd380d4cef7e6c232cc7e37895c3fd197                619   \n",
       "1  28dcb083ad90512da16b9430085c2cddb8ca5e12                608   \n",
       "2  774bc378f787438c9c7594e536787d07a097a54b                502   \n",
       "3  043a71326f7096de155e7f0c559dc62b5e4b7239                699   \n",
       "4  37b3bb8ca243955fb3605ec7e1c2a4607cdb3b22                850   \n",
       "\n",
       "  estado_residencia genero  idade  nivel_estabilidade  saldo_conta  \\\n",
       "0                SC      F     42                   2         0.00   \n",
       "1                RS      F     41                   1     83807.86   \n",
       "2                SC      F     42                   8    159660.80   \n",
       "3                SC      F     39                   1         0.00   \n",
       "4                RS      F     43                   2    125510.82   \n",
       "\n",
       "   numero_produtos  possui_cartao_de_credito  membro_ativo  \n",
       "0                1                         1             1  \n",
       "1                1                         0             1  \n",
       "2                3                         1             0  \n",
       "3                2                         0             0  \n",
       "4                1                         1             1  "
      ]
     },
     "execution_count": 3,
     "metadata": {},
     "output_type": "execute_result"
    }
   ],
   "source": [
    "df.drop(columns=[\"RowNumber\", \"sobrenome\"], inplace=True)\n",
    "df.head()"
   ]
  },
  {
   "cell_type": "markdown",
   "metadata": {},
   "source": [
    "### Informações básicas (Basic Informations)\n"
   ]
  },
  {
   "cell_type": "code",
   "execution_count": 4,
   "metadata": {},
   "outputs": [
    {
     "data": {
      "text/plain": [
       "(7000, 10)"
      ]
     },
     "execution_count": 4,
     "metadata": {},
     "output_type": "execute_result"
    }
   ],
   "source": [
    "df.shape"
   ]
  },
  {
   "cell_type": "code",
   "execution_count": 5,
   "metadata": {},
   "outputs": [
    {
     "name": "stdout",
     "output_type": "stream",
     "text": [
      "<class 'pandas.core.frame.DataFrame'>\n",
      "RangeIndex: 7000 entries, 0 to 6999\n",
      "Data columns (total 10 columns):\n",
      " #   Column                    Non-Null Count  Dtype  \n",
      "---  ------                    --------------  -----  \n",
      " 0   id                        7000 non-null   object \n",
      " 1   pontuacao_credito         7000 non-null   int64  \n",
      " 2   estado_residencia         7000 non-null   object \n",
      " 3   genero                    7000 non-null   object \n",
      " 4   idade                     7000 non-null   int64  \n",
      " 5   nivel_estabilidade        7000 non-null   int64  \n",
      " 6   saldo_conta               7000 non-null   float64\n",
      " 7   numero_produtos           7000 non-null   int64  \n",
      " 8   possui_cartao_de_credito  7000 non-null   int64  \n",
      " 9   membro_ativo              7000 non-null   int64  \n",
      "dtypes: float64(1), int64(6), object(3)\n",
      "memory usage: 547.0+ KB\n"
     ]
    }
   ],
   "source": [
    "df.info()"
   ]
  },
  {
   "cell_type": "code",
   "execution_count": 6,
   "metadata": {},
   "outputs": [
    {
     "data": {
      "text/plain": [
       "0"
      ]
     },
     "execution_count": 6,
     "metadata": {},
     "output_type": "execute_result"
    }
   ],
   "source": [
    "df.duplicated().sum()"
   ]
  },
  {
   "cell_type": "markdown",
   "metadata": {},
   "source": [
    "Olhando para as 3 linhas acima já temos informações bem interessantes:\n",
    "a) nosso dataset possui 7000 observações(linhas)\n",
    "b) não há nenhum valor nulo (graças a Deus, rs) ou seja, poderemos aproveitar bem todos os dados que nos foram disponibilizados\n",
    "c) não há dados duplicados (idem)\n",
    "\n",
    "--\n",
    "\n",
    "Looking at the 3 rows above, We have interesting informations:\n",
    "a) Our dataset has 7000 observations (rows);\n",
    "b) It hasn't null values (thanks God, rs) because It means that we can utilize well all Our data;\n",
    "c) It hasn't duplicated values (idem). "
   ]
  },
  {
   "cell_type": "code",
   "execution_count": 7,
   "metadata": {},
   "outputs": [
    {
     "data": {
      "text/html": [
       "<div>\n",
       "<style scoped>\n",
       "    .dataframe tbody tr th:only-of-type {\n",
       "        vertical-align: middle;\n",
       "    }\n",
       "\n",
       "    .dataframe tbody tr th {\n",
       "        vertical-align: top;\n",
       "    }\n",
       "\n",
       "    .dataframe thead th {\n",
       "        text-align: right;\n",
       "    }\n",
       "</style>\n",
       "<table border=\"1\" class=\"dataframe\">\n",
       "  <thead>\n",
       "    <tr style=\"text-align: right;\">\n",
       "      <th></th>\n",
       "      <th>pontuacao_credito</th>\n",
       "      <th>idade</th>\n",
       "      <th>nivel_estabilidade</th>\n",
       "      <th>saldo_conta</th>\n",
       "      <th>numero_produtos</th>\n",
       "      <th>possui_cartao_de_credito</th>\n",
       "      <th>membro_ativo</th>\n",
       "    </tr>\n",
       "  </thead>\n",
       "  <tbody>\n",
       "    <tr>\n",
       "      <th>count</th>\n",
       "      <td>7000.000000</td>\n",
       "      <td>7000.000000</td>\n",
       "      <td>7000.000000</td>\n",
       "      <td>7000.000000</td>\n",
       "      <td>7000.000000</td>\n",
       "      <td>7000.000000</td>\n",
       "      <td>7000.000000</td>\n",
       "    </tr>\n",
       "    <tr>\n",
       "      <th>mean</th>\n",
       "      <td>649.787000</td>\n",
       "      <td>38.892714</td>\n",
       "      <td>5.010286</td>\n",
       "      <td>76471.883751</td>\n",
       "      <td>1.526000</td>\n",
       "      <td>0.703286</td>\n",
       "      <td>0.512143</td>\n",
       "    </tr>\n",
       "    <tr>\n",
       "      <th>std</th>\n",
       "      <td>97.046279</td>\n",
       "      <td>10.465562</td>\n",
       "      <td>2.887500</td>\n",
       "      <td>62403.383911</td>\n",
       "      <td>0.583047</td>\n",
       "      <td>0.456842</td>\n",
       "      <td>0.499888</td>\n",
       "    </tr>\n",
       "    <tr>\n",
       "      <th>min</th>\n",
       "      <td>350.000000</td>\n",
       "      <td>18.000000</td>\n",
       "      <td>0.000000</td>\n",
       "      <td>0.000000</td>\n",
       "      <td>1.000000</td>\n",
       "      <td>0.000000</td>\n",
       "      <td>0.000000</td>\n",
       "    </tr>\n",
       "    <tr>\n",
       "      <th>25%</th>\n",
       "      <td>582.000000</td>\n",
       "      <td>32.000000</td>\n",
       "      <td>3.000000</td>\n",
       "      <td>0.000000</td>\n",
       "      <td>1.000000</td>\n",
       "      <td>0.000000</td>\n",
       "      <td>0.000000</td>\n",
       "    </tr>\n",
       "    <tr>\n",
       "      <th>50%</th>\n",
       "      <td>651.000000</td>\n",
       "      <td>37.000000</td>\n",
       "      <td>5.000000</td>\n",
       "      <td>97277.130000</td>\n",
       "      <td>1.000000</td>\n",
       "      <td>1.000000</td>\n",
       "      <td>1.000000</td>\n",
       "    </tr>\n",
       "    <tr>\n",
       "      <th>75%</th>\n",
       "      <td>717.000000</td>\n",
       "      <td>44.000000</td>\n",
       "      <td>7.250000</td>\n",
       "      <td>127537.155000</td>\n",
       "      <td>2.000000</td>\n",
       "      <td>1.000000</td>\n",
       "      <td>1.000000</td>\n",
       "    </tr>\n",
       "    <tr>\n",
       "      <th>max</th>\n",
       "      <td>850.000000</td>\n",
       "      <td>92.000000</td>\n",
       "      <td>10.000000</td>\n",
       "      <td>250898.090000</td>\n",
       "      <td>4.000000</td>\n",
       "      <td>1.000000</td>\n",
       "      <td>1.000000</td>\n",
       "    </tr>\n",
       "  </tbody>\n",
       "</table>\n",
       "</div>"
      ],
      "text/plain": [
       "       pontuacao_credito        idade  nivel_estabilidade    saldo_conta  \\\n",
       "count        7000.000000  7000.000000         7000.000000    7000.000000   \n",
       "mean          649.787000    38.892714            5.010286   76471.883751   \n",
       "std            97.046279    10.465562            2.887500   62403.383911   \n",
       "min           350.000000    18.000000            0.000000       0.000000   \n",
       "25%           582.000000    32.000000            3.000000       0.000000   \n",
       "50%           651.000000    37.000000            5.000000   97277.130000   \n",
       "75%           717.000000    44.000000            7.250000  127537.155000   \n",
       "max           850.000000    92.000000           10.000000  250898.090000   \n",
       "\n",
       "       numero_produtos  possui_cartao_de_credito  membro_ativo  \n",
       "count      7000.000000               7000.000000   7000.000000  \n",
       "mean          1.526000                  0.703286      0.512143  \n",
       "std           0.583047                  0.456842      0.499888  \n",
       "min           1.000000                  0.000000      0.000000  \n",
       "25%           1.000000                  0.000000      0.000000  \n",
       "50%           1.000000                  1.000000      1.000000  \n",
       "75%           2.000000                  1.000000      1.000000  \n",
       "max           4.000000                  1.000000      1.000000  "
      ]
     },
     "execution_count": 7,
     "metadata": {},
     "output_type": "execute_result"
    }
   ],
   "source": [
    "df.describe()"
   ]
  },
  {
   "cell_type": "markdown",
   "metadata": {},
   "source": [
    "Aqui, na \"descrição\" dos valores podemos tirar alguns insights bacanas também:\n",
    "a) em 'pontuacao_credito' vemos que o valor mínimo é 350 e o máximo é 850, além de eles estarem bem distribuidos pela quantidade de observações que temos (isso pode ser observado pelos quantis [25%,50%,75%];\n",
    "b) em 'idade' vemos que a pessoa mais jovem tem 18 anos (o que nos mostra que atualmente, pessoas mais jovens já passam a ter certa independência para talvez ter uma conta, movimentações financeiras, compras. E, a pessoa mais velha possui 92 anos, o que nos mostra também que as pessoas tendem a cuidar das suas contas até o fim da vida;\n",
    "c) em 'saldo_conta' nos surpreende que 50% dos nossos consumidores não possuem nada em suas contas;\n",
    "\n",
    "--\n",
    "\n",
    "Here, in 'describe' of de values We can take some good insights too.:\n",
    "a) in 'pontuacao_credito' We can see that the minimum value is 350 and the maximum is 850, they are also well distributed in the quantis;\n",
    "b) in 'idade' we see that the yougest person is 18 (What we can can infer is that nowadays, the youngest people have a little independence of their parents to  have their own credit card, to shopping, to deal with their own money. We can also notice the oldest person is 92 years old, what show us that the people tendency to take care about your business until the end of the live.\n",
    "c) in 'saldo_conta', it suprise us because 50% of our customers don't has nothing of money in their acounts. "
   ]
  },
  {
   "cell_type": "markdown",
   "metadata": {},
   "source": [
    "### 1) Quais são os top 5 consumidores e os 5 piores? ( Who are the top 5  customers and the 5 worst?)\n",
    "\n",
    "Quando queremos ordenar o nosso dataset para poder saber quem são os primeiros e os ultimos, primeiro, precisamos passar um parâmetro para ele se basear, neste caso, o nosso ponto principal: \"pontuacao_credito\". Entretanto, se fizermos a chamada do código ele nos trará valores \"aleatórios\" já que temos varias observações com o mesmo valor - 850. Portanto, iremos ver quais variáveis tem maior correlação com nossa variável principal para podermos ordena-las em conjunto e ter de fato os melhores e os piores consumidores da nossa base. \n",
    "\n",
    "--\n",
    "\n",
    "When We want order our dataset to findout who are the first and the last customers, first of all We need pass a base parameter, in this case is \"pontuacao_credito\". However, if We call the code, it will bring us a random values, because We have a lot of observationos with the max value - 850. That is why We'll see which variables has more correlation with our main variable to order them togheter and achieve in fact the better and the worst customers of our dataset.  "
   ]
  },
  {
   "cell_type": "code",
   "execution_count": 8,
   "metadata": {},
   "outputs": [
    {
     "data": {
      "text/html": [
       "<div>\n",
       "<style scoped>\n",
       "    .dataframe tbody tr th:only-of-type {\n",
       "        vertical-align: middle;\n",
       "    }\n",
       "\n",
       "    .dataframe tbody tr th {\n",
       "        vertical-align: top;\n",
       "    }\n",
       "\n",
       "    .dataframe thead th {\n",
       "        text-align: right;\n",
       "    }\n",
       "</style>\n",
       "<table border=\"1\" class=\"dataframe\">\n",
       "  <thead>\n",
       "    <tr style=\"text-align: right;\">\n",
       "      <th></th>\n",
       "      <th>pontuacao_credito</th>\n",
       "    </tr>\n",
       "  </thead>\n",
       "  <tbody>\n",
       "    <tr>\n",
       "      <th>pontuacao_credito</th>\n",
       "      <td>1.000000</td>\n",
       "    </tr>\n",
       "    <tr>\n",
       "      <th>membro_ativo</th>\n",
       "      <td>0.033992</td>\n",
       "    </tr>\n",
       "    <tr>\n",
       "      <th>saldo_conta</th>\n",
       "      <td>0.009761</td>\n",
       "    </tr>\n",
       "    <tr>\n",
       "      <th>nivel_estabilidade</th>\n",
       "      <td>0.007233</td>\n",
       "    </tr>\n",
       "    <tr>\n",
       "      <th>numero_produtos</th>\n",
       "      <td>0.000996</td>\n",
       "    </tr>\n",
       "    <tr>\n",
       "      <th>idade</th>\n",
       "      <td>-0.002839</td>\n",
       "    </tr>\n",
       "    <tr>\n",
       "      <th>possui_cartao_de_credito</th>\n",
       "      <td>-0.007987</td>\n",
       "    </tr>\n",
       "  </tbody>\n",
       "</table>\n",
       "</div>"
      ],
      "text/plain": [
       "                          pontuacao_credito\n",
       "pontuacao_credito                  1.000000\n",
       "membro_ativo                       0.033992\n",
       "saldo_conta                        0.009761\n",
       "nivel_estabilidade                 0.007233\n",
       "numero_produtos                    0.000996\n",
       "idade                             -0.002839\n",
       "possui_cartao_de_credito          -0.007987"
      ]
     },
     "execution_count": 8,
     "metadata": {},
     "output_type": "execute_result"
    }
   ],
   "source": [
    "df.corr()[[\"pontuacao_credito\"]].sort_values(by =\"pontuacao_credito\", ascending=False)"
   ]
  },
  {
   "cell_type": "code",
   "execution_count": 9,
   "metadata": {},
   "outputs": [
    {
     "data": {
      "text/html": [
       "<div>\n",
       "<style scoped>\n",
       "    .dataframe tbody tr th:only-of-type {\n",
       "        vertical-align: middle;\n",
       "    }\n",
       "\n",
       "    .dataframe tbody tr th {\n",
       "        vertical-align: top;\n",
       "    }\n",
       "\n",
       "    .dataframe thead th {\n",
       "        text-align: right;\n",
       "    }\n",
       "</style>\n",
       "<table border=\"1\" class=\"dataframe\">\n",
       "  <thead>\n",
       "    <tr style=\"text-align: right;\">\n",
       "      <th></th>\n",
       "      <th>id</th>\n",
       "      <th>pontuacao_credito</th>\n",
       "      <th>estado_residencia</th>\n",
       "      <th>genero</th>\n",
       "      <th>idade</th>\n",
       "      <th>nivel_estabilidade</th>\n",
       "      <th>saldo_conta</th>\n",
       "      <th>numero_produtos</th>\n",
       "      <th>possui_cartao_de_credito</th>\n",
       "      <th>membro_ativo</th>\n",
       "    </tr>\n",
       "  </thead>\n",
       "  <tbody>\n",
       "    <tr>\n",
       "      <th>1533</th>\n",
       "      <td>72c55878ee9abd82660989323055aef606481dd0</td>\n",
       "      <td>850</td>\n",
       "      <td>SC</td>\n",
       "      <td>F</td>\n",
       "      <td>37</td>\n",
       "      <td>3</td>\n",
       "      <td>212778.20</td>\n",
       "      <td>1</td>\n",
       "      <td>0</td>\n",
       "      <td>1</td>\n",
       "    </tr>\n",
       "    <tr>\n",
       "      <th>4533</th>\n",
       "      <td>c447e6f8d4c22e56157c76bd384a02b9cd07685a</td>\n",
       "      <td>850</td>\n",
       "      <td>RS</td>\n",
       "      <td>M</td>\n",
       "      <td>39</td>\n",
       "      <td>6</td>\n",
       "      <td>206014.94</td>\n",
       "      <td>2</td>\n",
       "      <td>0</td>\n",
       "      <td>1</td>\n",
       "    </tr>\n",
       "    <tr>\n",
       "      <th>4674</th>\n",
       "      <td>631d97f5beb62957142c1236017f7ff4aab85668</td>\n",
       "      <td>850</td>\n",
       "      <td>PR</td>\n",
       "      <td>M</td>\n",
       "      <td>41</td>\n",
       "      <td>1</td>\n",
       "      <td>176958.46</td>\n",
       "      <td>2</td>\n",
       "      <td>0</td>\n",
       "      <td>1</td>\n",
       "    </tr>\n",
       "    <tr>\n",
       "      <th>2651</th>\n",
       "      <td>699a2e173e71ae27ae7b09d0ca97f5f97b080359</td>\n",
       "      <td>850</td>\n",
       "      <td>PR</td>\n",
       "      <td>M</td>\n",
       "      <td>40</td>\n",
       "      <td>4</td>\n",
       "      <td>166082.15</td>\n",
       "      <td>2</td>\n",
       "      <td>0</td>\n",
       "      <td>1</td>\n",
       "    </tr>\n",
       "    <tr>\n",
       "      <th>1164</th>\n",
       "      <td>9c53560aff23f1d0512844168e20b6d3f0fd2b3e</td>\n",
       "      <td>850</td>\n",
       "      <td>SC</td>\n",
       "      <td>F</td>\n",
       "      <td>36</td>\n",
       "      <td>0</td>\n",
       "      <td>164850.54</td>\n",
       "      <td>1</td>\n",
       "      <td>1</td>\n",
       "      <td>1</td>\n",
       "    </tr>\n",
       "  </tbody>\n",
       "</table>\n",
       "</div>"
      ],
      "text/plain": [
       "                                            id  pontuacao_credito  \\\n",
       "1533  72c55878ee9abd82660989323055aef606481dd0                850   \n",
       "4533  c447e6f8d4c22e56157c76bd384a02b9cd07685a                850   \n",
       "4674  631d97f5beb62957142c1236017f7ff4aab85668                850   \n",
       "2651  699a2e173e71ae27ae7b09d0ca97f5f97b080359                850   \n",
       "1164  9c53560aff23f1d0512844168e20b6d3f0fd2b3e                850   \n",
       "\n",
       "     estado_residencia genero  idade  nivel_estabilidade  saldo_conta  \\\n",
       "1533                SC      F     37                   3    212778.20   \n",
       "4533                RS      M     39                   6    206014.94   \n",
       "4674                PR      M     41                   1    176958.46   \n",
       "2651                PR      M     40                   4    166082.15   \n",
       "1164                SC      F     36                   0    164850.54   \n",
       "\n",
       "      numero_produtos  possui_cartao_de_credito  membro_ativo  \n",
       "1533                1                         0             1  \n",
       "4533                2                         0             1  \n",
       "4674                2                         0             1  \n",
       "2651                2                         0             1  \n",
       "1164                1                         1             1  "
      ]
     },
     "execution_count": 9,
     "metadata": {},
     "output_type": "execute_result"
    }
   ],
   "source": [
    "df.sort_values(by=[\"pontuacao_credito\",\"membro_ativo\", \"saldo_conta\", \"nivel_estabilidade\"], ascending=False ).head(5)"
   ]
  },
  {
   "cell_type": "code",
   "execution_count": 10,
   "metadata": {
    "scrolled": true
   },
   "outputs": [
    {
     "data": {
      "text/html": [
       "<div>\n",
       "<style scoped>\n",
       "    .dataframe tbody tr th:only-of-type {\n",
       "        vertical-align: middle;\n",
       "    }\n",
       "\n",
       "    .dataframe tbody tr th {\n",
       "        vertical-align: top;\n",
       "    }\n",
       "\n",
       "    .dataframe thead th {\n",
       "        text-align: right;\n",
       "    }\n",
       "</style>\n",
       "<table border=\"1\" class=\"dataframe\">\n",
       "  <thead>\n",
       "    <tr style=\"text-align: right;\">\n",
       "      <th></th>\n",
       "      <th>id</th>\n",
       "      <th>pontuacao_credito</th>\n",
       "      <th>estado_residencia</th>\n",
       "      <th>genero</th>\n",
       "      <th>idade</th>\n",
       "      <th>nivel_estabilidade</th>\n",
       "      <th>saldo_conta</th>\n",
       "      <th>numero_produtos</th>\n",
       "      <th>possui_cartao_de_credito</th>\n",
       "      <th>membro_ativo</th>\n",
       "    </tr>\n",
       "  </thead>\n",
       "  <tbody>\n",
       "    <tr>\n",
       "      <th>1405</th>\n",
       "      <td>beb638efbd03de9ede379f3739d50ec48b0f2d13</td>\n",
       "      <td>359</td>\n",
       "      <td>SC</td>\n",
       "      <td>F</td>\n",
       "      <td>44</td>\n",
       "      <td>6</td>\n",
       "      <td>128747.69</td>\n",
       "      <td>1</td>\n",
       "      <td>1</td>\n",
       "      <td>0</td>\n",
       "    </tr>\n",
       "    <tr>\n",
       "      <th>1962</th>\n",
       "      <td>9845bcad8c344f77e1ec09fc881c350e64fb0387</td>\n",
       "      <td>358</td>\n",
       "      <td>RS</td>\n",
       "      <td>F</td>\n",
       "      <td>52</td>\n",
       "      <td>8</td>\n",
       "      <td>143542.36</td>\n",
       "      <td>3</td>\n",
       "      <td>1</td>\n",
       "      <td>0</td>\n",
       "    </tr>\n",
       "    <tr>\n",
       "      <th>2473</th>\n",
       "      <td>5abb6d268316a919fce032e62ce1d470a74250ac</td>\n",
       "      <td>351</td>\n",
       "      <td>PR</td>\n",
       "      <td>F</td>\n",
       "      <td>57</td>\n",
       "      <td>4</td>\n",
       "      <td>163146.46</td>\n",
       "      <td>1</td>\n",
       "      <td>1</td>\n",
       "      <td>0</td>\n",
       "    </tr>\n",
       "    <tr>\n",
       "      <th>1631</th>\n",
       "      <td>6833c836918b1d92da40924d1ce30791c480a3aa</td>\n",
       "      <td>350</td>\n",
       "      <td>RS</td>\n",
       "      <td>M</td>\n",
       "      <td>54</td>\n",
       "      <td>1</td>\n",
       "      <td>152677.48</td>\n",
       "      <td>1</td>\n",
       "      <td>1</td>\n",
       "      <td>1</td>\n",
       "    </tr>\n",
       "    <tr>\n",
       "      <th>1838</th>\n",
       "      <td>3e5095801cc675bfa0bcf752e73c7206e65b66ea</td>\n",
       "      <td>350</td>\n",
       "      <td>PR</td>\n",
       "      <td>M</td>\n",
       "      <td>39</td>\n",
       "      <td>0</td>\n",
       "      <td>109733.20</td>\n",
       "      <td>2</td>\n",
       "      <td>0</td>\n",
       "      <td>0</td>\n",
       "    </tr>\n",
       "  </tbody>\n",
       "</table>\n",
       "</div>"
      ],
      "text/plain": [
       "                                            id  pontuacao_credito  \\\n",
       "1405  beb638efbd03de9ede379f3739d50ec48b0f2d13                359   \n",
       "1962  9845bcad8c344f77e1ec09fc881c350e64fb0387                358   \n",
       "2473  5abb6d268316a919fce032e62ce1d470a74250ac                351   \n",
       "1631  6833c836918b1d92da40924d1ce30791c480a3aa                350   \n",
       "1838  3e5095801cc675bfa0bcf752e73c7206e65b66ea                350   \n",
       "\n",
       "     estado_residencia genero  idade  nivel_estabilidade  saldo_conta  \\\n",
       "1405                SC      F     44                   6    128747.69   \n",
       "1962                RS      F     52                   8    143542.36   \n",
       "2473                PR      F     57                   4    163146.46   \n",
       "1631                RS      M     54                   1    152677.48   \n",
       "1838                PR      M     39                   0    109733.20   \n",
       "\n",
       "      numero_produtos  possui_cartao_de_credito  membro_ativo  \n",
       "1405                1                         1             0  \n",
       "1962                3                         1             0  \n",
       "2473                1                         1             0  \n",
       "1631                1                         1             1  \n",
       "1838                2                         0             0  "
      ]
     },
     "execution_count": 10,
     "metadata": {},
     "output_type": "execute_result"
    }
   ],
   "source": [
    "df.sort_values(by=[\"pontuacao_credito\",\"membro_ativo\", \"saldo_conta\", \"nivel_estabilidade\"], ascending=False ).tail(5)"
   ]
  },
  {
   "cell_type": "markdown",
   "metadata": {},
   "source": [
    "Agora sim nós temos para apresentar à àrea de negócios quem são, desta nossa base, quem são os melhores e piores clientes. Uma coisa que logo de cara nos chama atenção é o nível de correlação das variáveis com a variável principal - eles são baixíssimos, sinceramente, são o menor nível de correlação que já vi, sem dúvida é algo que deve ser investigado. Poderíamos pedir uma outra base dos dados para fazer a mesma análise e entender se é um caso isolado ou se acontece para todo o negócio e devemos descobrir, se não são estas as variáveis que aumentam ou diminuem a pontuação dos consumidores, quais são?\n",
    "\n",
    "Pontos que nos chama atenção também é a idade: os melhores possuem uma idade média mais jovem do que os piores. 4 dos 5 melhores não possui cartão de crédito, em contra-partida 4 dos 5 piores o tem - levando em conta que o negócio é um banco, é um fato no mínimo estranho. Outro ponto que vemos é que os últimos possuem valores relevantes na conta (mesmo sabendo que metade dos nossos consumidores não tem nada) e também tem a aquisição de alguns produtos, o que estes últimos não têm é atividade constante, o que nos mostra ser uma variável mais relevante que as outras juntas. \n",
    "\n",
    "--\n",
    "\n",
    "Now We have the right informations, about this dataset, to present to the business area. What take our attention in the beginning is correlation level of the variables with the main variable - they are so lowest - honestly, is the lowest levels that I ever seen and without doubt must be investigated. We could ask another dataset to do the same analysis and understand if it is a isolatate case or if it happens to all the business, and so, find out, if arent these the variables that havem correlation with the main variable, which are?\n",
    "\n",
    "Another point that take our attention is 'idade': the top customers are in general younger than the worst customers. But, 4 of the 5 best haven't credit card, in the other side, 4 of the 5 worst have - taking on count that the business is a bank, it is a minimum strange fact. Another strange point is that the last have relevant values of money in their acounts (and We know that the half of our customers don't have nothing) and They have the acquisted some products. The only thing that the last don't have is a constant activity, what show us that it is a more relevant variable than the anothers. "
   ]
  },
  {
   "cell_type": "code",
   "execution_count": 11,
   "metadata": {},
   "outputs": [
    {
     "data": {
      "text/plain": [
       "<matplotlib.axes._subplots.AxesSubplot at 0x215c3ffc908>"
      ]
     },
     "execution_count": 11,
     "metadata": {},
     "output_type": "execute_result"
    },
    {
     "data": {
      "image/png": "[encoded data removed]",
      "text/plain": [
       "<Figure size 432x288 with 1 Axes>"
      ]
     },
     "metadata": {
      "needs_background": "light"
     },
     "output_type": "display_data"
    }
   ],
   "source": [
    "\"\"\"\n",
    "Vamos dar uma olhada nas distribuições da nossa variável target.\n",
    "\n",
    "----------\n",
    "\n",
    "Let's look in the distribution of our target variable.\n",
    "\"\"\" \n",
    "    \n",
    "sns.distplot(df[\"pontuacao_credito\"])"
   ]
  },
  {
   "cell_type": "code",
   "execution_count": 12,
   "metadata": {},
   "outputs": [
    {
     "data": {
      "text/plain": [
       "<matplotlib.axes._subplots.AxesSubplot at 0x215c650b5c8>"
      ]
     },
     "execution_count": 12,
     "metadata": {},
     "output_type": "execute_result"
    },
    {
     "data": {
      "image/png": "[encoded data removed]",
      "text/plain": [
       "<Figure size 432x288 with 1 Axes>"
      ]
     },
     "metadata": {
      "needs_background": "light"
     },
     "output_type": "display_data"
    }
   ],
   "source": [
    "sns.boxplot(df[\"pontuacao_credito\"])"
   ]
  },
  {
   "cell_type": "markdown",
   "metadata": {},
   "source": [
    "Podemos ver que nossos dados são bem distribuidos como concluídos anteriormente, possuindo quase uma distribuição normal, com uma leve inclinação de assimetria à esquerda. Outro ponto que foge a distribuição normal é que temos muitos valores máximos. \n",
    "\n",
    "--\n",
    "\n",
    "We can see that Our data have a good distribution as We concluded before and it has an almost normal distribution, with a slight asymmetry slope to the left. Another out point is because we have a lot of max values.  "
   ]
  },
  {
   "cell_type": "markdown",
   "metadata": {},
   "source": [
    "### 2) Homens possuem pontuação maior que mulher? (Men has score bigger than women?)\n",
    "\n",
    "Vamos ver se há uma diferença grande entre os gêneros e descobrir qual possue maiores pontuações. \n",
    "\n",
    "Primeiro, veremos o quanto de homens e mulheres temos, depois, vamos ver a frequência que temos de cada pontuação e a média desses valores. Por fim, vamos entender também a distribuição delas e comparar ambas.\n",
    "\n",
    "--\n",
    "\n",
    "Let's see if we have a big difference between the genders and find out which has the biggest ponctuations.\n",
    "\n",
    "First of all, let's see how many of men and women We have, then, find out the frequency that each pontuatuion has in each gender and the average of them. In the end, let's understand each distribution and compare them too."
   ]
  },
  {
   "cell_type": "code",
   "execution_count": 13,
   "metadata": {},
   "outputs": [
    {
     "data": {
      "text/html": [
       "<div>\n",
       "<style scoped>\n",
       "    .dataframe tbody tr th:only-of-type {\n",
       "        vertical-align: middle;\n",
       "    }\n",
       "\n",
       "    .dataframe tbody tr th {\n",
       "        vertical-align: top;\n",
       "    }\n",
       "\n",
       "    .dataframe thead th {\n",
       "        text-align: right;\n",
       "    }\n",
       "</style>\n",
       "<table border=\"1\" class=\"dataframe\">\n",
       "  <thead>\n",
       "    <tr style=\"text-align: right;\">\n",
       "      <th></th>\n",
       "      <th>Quantidade</th>\n",
       "      <th>Percentual %</th>\n",
       "    </tr>\n",
       "  </thead>\n",
       "  <tbody>\n",
       "    <tr>\n",
       "      <th>M</th>\n",
       "      <td>3791</td>\n",
       "      <td>54.16</td>\n",
       "    </tr>\n",
       "    <tr>\n",
       "      <th>F</th>\n",
       "      <td>3209</td>\n",
       "      <td>45.84</td>\n",
       "    </tr>\n",
       "  </tbody>\n",
       "</table>\n",
       "</div>"
      ],
      "text/plain": [
       "   Quantidade  Percentual %\n",
       "M        3791         54.16\n",
       "F        3209         45.84"
      ]
     },
     "execution_count": 13,
     "metadata": {},
     "output_type": "execute_result"
    }
   ],
   "source": [
    "quantidade = df.genero.value_counts()\n",
    "percentual =((df.genero.value_counts() / df.shape[0]) * 100).round(2)\n",
    "quantidades = pd.DataFrame({\"Quantidade\":quantidade, \"Percentual %\":percentual})\n",
    "quantidades"
   ]
  },
  {
   "cell_type": "code",
   "execution_count": 14,
   "metadata": {},
   "outputs": [
    {
     "data": {
      "text/plain": [
       "(genero  pontuacao_credito\n",
       " F       850                  75\n",
       "         655                  26\n",
       "         554                  23\n",
       "         652                  23\n",
       "         678                  22\n",
       "                              ..\n",
       "         363                   1\n",
       "         359                   1\n",
       "         358                   1\n",
       "         351                   1\n",
       "         848                   1\n",
       " Name: pontuacao_credito, Length: 429, dtype: int64,\n",
       " genero  pontuacao_credito\n",
       " M       850                  92\n",
       "         667                  23\n",
       "         656                  21\n",
       "         663                  21\n",
       "         696                  21\n",
       "                              ..\n",
       "         405                   1\n",
       "         401                   1\n",
       "         399                   1\n",
       "         365                   1\n",
       "         845                   1\n",
       " Name: pontuacao_credito, Length: 432, dtype: int64)"
      ]
     },
     "execution_count": 14,
     "metadata": {},
     "output_type": "execute_result"
    }
   ],
   "source": [
    "count_f = df.query(\"genero == 'F'\").groupby(\"genero\")[\"pontuacao_credito\"].value_counts().sort_values(ascending=False)\n",
    "count_m = df.query(\"genero == 'M'\").groupby(\"genero\")[\"pontuacao_credito\"].value_counts().sort_values(ascending=False)\n",
    "\n",
    "count_f, count_m"
   ]
  },
  {
   "cell_type": "code",
   "execution_count": 15,
   "metadata": {},
   "outputs": [
    {
     "data": {
      "text/plain": [
       "genero\n",
       "M    650.79\n",
       "F    648.61\n",
       "Name: pontuacao_credito, dtype: float64"
      ]
     },
     "execution_count": 15,
     "metadata": {},
     "output_type": "execute_result"
    }
   ],
   "source": [
    "df.groupby(\"genero\")[\"pontuacao_credito\"].mean().sort_values(ascending=False).round(2)"
   ]
  },
  {
   "cell_type": "code",
   "execution_count": 16,
   "metadata": {
    "scrolled": true
   },
   "outputs": [
    {
     "data": {
      "text/plain": [
       "<Figure size 1080x432 with 0 Axes>"
      ]
     },
     "metadata": {},
     "output_type": "display_data"
    },
    {
     "data": {
      "image/png": "[encoded data removed]",
      "text/plain": [
       "<Figure size 432x288 with 3 Axes>"
      ]
     },
     "metadata": {
      "needs_background": "light"
     },
     "output_type": "display_data"
    }
   ],
   "source": [
    "score_f = df.query(\"genero == 'F'\")[\"pontuacao_credito\"]\n",
    "score_m = df.query(\"genero == 'M'\")[\"pontuacao_credito\"]\n",
    "\n",
    "plt.figure(figsize=(15,6))\n",
    "\n",
    "fig, axs = plt.subplots(1,3)\n",
    "\n",
    "axs[0].set_title('Pontuação Feminino')\n",
    "axs[0].set_ylabel('Quantidade')\n",
    "axs[0].hist(score_f, bins=25, alpha=0.5, color=\"r\", label=\"Fem\")\n",
    "axs[0].axvline(score_f.mean(), color='r', linestyle='dashed', linewidth=1)\n",
    "\n",
    "\n",
    "axs[1].set_title('Pontuação Masculino')\n",
    "axs[1].hist(score_m, bins=25, alpha=0.5, color=\"b\", label=\"Pontuação Masculino\")\n",
    "axs[1].axvline(score_m.mean(), color='b', linestyle='dashed', linewidth=1)\n",
    "\n",
    "axs[2].set_title('Pontuação Crédito')\n",
    "axs[2].hist(score_f, bins=25, alpha=0.5, color=\"r\", label=\"Fem\")\n",
    "axs[2].hist(score_m, bins=25, alpha=0.5, color=\"b\", label=\"Masc\")\n",
    "axs[2].legend(loc='upper right')\n",
    "\n",
    "\n",
    "plt.show()"
   ]
  },
  {
   "cell_type": "markdown",
   "metadata": {},
   "source": [
    "Conforme os dados acima, vemos que de fato os homens possuem uma pontuação em geral maior que as mulheres, entretanto, algo interessante que podemos inferir também através destes mesmos dados é de que, como os valores são muito próximos um do outro, fica claro de que as mulheres passam a ter uma representatividade maior. E, o que antes viamos ser mais comum, os homens tratarem de assuntos financeiros em casa por exemplo, as mulheres começam a ter esta frente também. \n",
    "\n",
    "--\n",
    "\n",
    "According to data show us, in fact the men has - in general - a bigger score than women, however, something interesting that We can infer about this data is: how the value are so close one another, it's clear to us that the women become more representative in this midle. And, something that was more commonly before, men take care about the business of the house an example, We see that women pass to take this responsabilite too. "
   ]
  },
  {
   "cell_type": "markdown",
   "metadata": {},
   "source": [
    "### 3)Quais faixas etárias possuem mais consumidores (Which age groups have the most consumers)\n",
    "\n",
    "Como em nosso dataset nós temos apenas as idades, precisamos fazer essa separação e criar uma nova variavél para podermos analisá-la. Então, vamos fazer isso e depois visualizar estes novos dados para respondermos quais idades nos são mais representativos.\n",
    "\n",
    "--\n",
    "\n",
    "Because of our dataset has just the ages, We need create a new variable with this groups to analyse them. So, let's do it and after visualize this new data to answer which ages are more representative to us. "
   ]
  },
  {
   "cell_type": "code",
   "execution_count": 17,
   "metadata": {},
   "outputs": [
    {
     "data": {
      "text/html": [
       "<div>\n",
       "<style scoped>\n",
       "    .dataframe tbody tr th:only-of-type {\n",
       "        vertical-align: middle;\n",
       "    }\n",
       "\n",
       "    .dataframe tbody tr th {\n",
       "        vertical-align: top;\n",
       "    }\n",
       "\n",
       "    .dataframe thead th {\n",
       "        text-align: right;\n",
       "    }\n",
       "</style>\n",
       "<table border=\"1\" class=\"dataframe\">\n",
       "  <thead>\n",
       "    <tr style=\"text-align: right;\">\n",
       "      <th></th>\n",
       "      <th>Quantidade</th>\n",
       "      <th>Percentual %</th>\n",
       "    </tr>\n",
       "  </thead>\n",
       "  <tbody>\n",
       "    <tr>\n",
       "      <th>36-45</th>\n",
       "      <td>2621</td>\n",
       "      <td>37.44</td>\n",
       "    </tr>\n",
       "    <tr>\n",
       "      <th>26-35</th>\n",
       "      <td>2473</td>\n",
       "      <td>35.33</td>\n",
       "    </tr>\n",
       "    <tr>\n",
       "      <th>46-55</th>\n",
       "      <td>915</td>\n",
       "      <td>13.07</td>\n",
       "    </tr>\n",
       "    <tr>\n",
       "      <th>18-25</th>\n",
       "      <td>438</td>\n",
       "      <td>6.26</td>\n",
       "    </tr>\n",
       "    <tr>\n",
       "      <th>56-65</th>\n",
       "      <td>373</td>\n",
       "      <td>5.33</td>\n",
       "    </tr>\n",
       "    <tr>\n",
       "      <th>acima de 66</th>\n",
       "      <td>180</td>\n",
       "      <td>2.57</td>\n",
       "    </tr>\n",
       "  </tbody>\n",
       "</table>\n",
       "</div>"
      ],
      "text/plain": [
       "             Quantidade  Percentual %\n",
       "36-45              2621         37.44\n",
       "26-35              2473         35.33\n",
       "46-55               915         13.07\n",
       "18-25               438          6.26\n",
       "56-65               373          5.33\n",
       "acima de 66         180          2.57"
      ]
     },
     "execution_count": 17,
     "metadata": {},
     "output_type": "execute_result"
    }
   ],
   "source": [
    "bins=[0, 25, 35, 45, 55, 65, 99]\n",
    "labels=[\"18-25\", \"26-35\", \"36-45\", \"46-55\", \"56-65\" ,\"acima de 66\"] \n",
    "df[\"faixa_etaria\"] = pd.cut(df[\"idade\"], bins=bins, labels=labels, include_lowest=True )\n",
    "qtde_fx_etaria = df[\"faixa_etaria\"].value_counts()\n",
    "percent_fx_etaria = ((df[\"faixa_etaria\"].value_counts() / df.shape[0])*100).round(2)\n",
    "tabela = pd.DataFrame({\"Quantidade\":qtde_fx_etaria, \"Percentual %\":percent_fx_etaria})\n",
    "tabela"
   ]
  },
  {
   "cell_type": "code",
   "execution_count": 18,
   "metadata": {
    "scrolled": true
   },
   "outputs": [
    {
     "data": {
      "text/plain": [
       "<matplotlib.axes._subplots.AxesSubplot at 0x215c65e1d88>"
      ]
     },
     "execution_count": 18,
     "metadata": {},
     "output_type": "execute_result"
    },
    {
     "data": {
      "image/png": "[encoded data removed]",
      "text/plain": [
       "<Figure size 432x288 with 1 Axes>"
      ]
     },
     "metadata": {
      "needs_background": "light"
     },
     "output_type": "display_data"
    }
   ],
   "source": [
    "sns.countplot(x=\"faixa_etaria\", hue=\"genero\", data=df)"
   ]
  },
  {
   "cell_type": "markdown",
   "metadata": {},
   "source": [
    "Através deste grafico conseguimos ver que nossos consumidores se encontram majoritariamente em idades entre 26 e 45 anos, representando 72.77% da nossa base. O que nos parece ser compreensível já que a pessoa nesta faixa etaria tende a ser o responsável por ela e as vezes por outros(família), enquanto os mais jovens as vezes tem ainda os pais como responsáveis e os mais velhos passam a ter os cuidados dos filhos para estes assuntos. \n",
    "\n",
    "--\n",
    "\n",
    "Through this graph We can see that our consumers are mostly aged between 26 and 45 years, account for 72.77% of our base. What seems to us to be understandable, cause the person in this age group tends to be responsible for them and sometimes for others (family), while the younger ones still have their parents as responsible and to the older ones, their children start to take care these matters for them."
   ]
  },
  {
   "cell_type": "markdown",
   "metadata": {},
   "source": [
    "### 4) Qual faixa-etária tem maiores pontuações? (What age group has the better score?)\n",
    "\n",
    "Como já temos os dados separados, vamos ver se em um gráfico nós já conseguimos ter esta resposta. \n",
    "\n",
    "--\n",
    "\n",
    "With the right data, let's see if with a graph, it can bring us the answer. "
   ]
  },
  {
   "cell_type": "code",
   "execution_count": 19,
   "metadata": {},
   "outputs": [
    {
     "data": {
      "text/plain": [
       "<matplotlib.axes._subplots.AxesSubplot at 0x215c68d7dc8>"
      ]
     },
     "execution_count": 19,
     "metadata": {},
     "output_type": "execute_result"
    },
    {
     "data": {
      "image/png": "[encoded data removed]",
      "text/plain": [
       "<Figure size 432x288 with 1 Axes>"
      ]
     },
     "metadata": {
      "needs_background": "light"
     },
     "output_type": "display_data"
    }
   ],
   "source": [
    "sns.scatterplot(x=\"faixa_etaria\", y=\"pontuacao_credito\", hue=\"genero\", data=df)"
   ]
  },
  {
   "cell_type": "code",
   "execution_count": 20,
   "metadata": {},
   "outputs": [
    {
     "data": {
      "text/plain": [
       "faixa_etaria\n",
       "acima de 66    659.80\n",
       "18-25          654.06\n",
       "36-45          651.72\n",
       "26-35          648.26\n",
       "56-65          646.46\n",
       "46-55          645.70\n",
       "Name: pontuacao_credito, dtype: float64"
      ]
     },
     "execution_count": 20,
     "metadata": {},
     "output_type": "execute_result"
    }
   ],
   "source": [
    "df.groupby(\"faixa_etaria\")[\"pontuacao_credito\"].mean().sort_values(ascending=False).round(2)"
   ]
  },
  {
   "cell_type": "markdown",
   "metadata": {},
   "source": [
    "Infelizmente, nosso gráfico não ficou tão visual, a única coisa que podemos ver mais claramente é que a faixa etária 'acima de 66' quase não tem dados nas pontuações mais baixas. \n",
    "Então tiramos a média mesmo e ordenamos elas, pois, neste caso, acho que é melhor forma de comparação e o que nos chama atenção é que os grupos extremos (mais velhos e mais novos) possuem as melhores médias, isso pode ser por terem menos observações, ou devido a não terem \"tantos compromissos\" quanto os outros. Algo que é estranho é que a faixa etária anterior a 'acima de 66' que tem a melhor média, possui a pior. \n",
    "\n",
    "--\n",
    "\n",
    "Unfortunately, our graph isn't visual, the one thing that We can see is that the group 'acima de 66' almost don't have lows ponctuations.\n",
    "So, We think that take the average and orden them is the better way to anwser our question and what take our attention is that the out groups (the older one and the youger one) has the better average, it can be for they has less observation or for haven't less counts to pay than the others. Something strange is that the group before 'acima de 66' that has the better average, has the worst average then all."
   ]
  },
  {
   "cell_type": "markdown",
   "metadata": {},
   "source": [
    "### 5) Qual estado tem a maior media? (Which state has the major mean of all?)\n",
    "\n",
    "Esta foi a única questão que o desafio inicial da Codenation exigia, portanto, traremos todos os valores de tendência central para comparar. Ordenaremos cada um.\n",
    "\n",
    "--\n",
    "\n",
    "This is the only question proposed by the Condenation's challenge, therefore, we will bring all the central tends values to compare. We will put them in order."
   ]
  },
  {
   "cell_type": "code",
   "execution_count": 21,
   "metadata": {},
   "outputs": [
    {
     "data": {
      "text/plain": [
       "estado_residencia\n",
       "RS    651.11\n",
       "SC    649.54\n",
       "PR    648.96\n",
       "Name: pontuacao_credito, dtype: float64"
      ]
     },
     "execution_count": 21,
     "metadata": {},
     "output_type": "execute_result"
    }
   ],
   "source": [
    "media = df.groupby(\"estado_residencia\")[\"pontuacao_credito\"].mean().sort_values(ascending=False).round(2)\n",
    "media"
   ]
  },
  {
   "cell_type": "code",
   "execution_count": 22,
   "metadata": {},
   "outputs": [
    {
     "data": {
      "text/plain": [
       "estado_residencia\n",
       "SC    653\n",
       "RS    650\n",
       "PR    650\n",
       "Name: pontuacao_credito, dtype: int64"
      ]
     },
     "execution_count": 22,
     "metadata": {},
     "output_type": "execute_result"
    }
   ],
   "source": [
    "df.groupby(\"estado_residencia\")[\"pontuacao_credito\"].median().sort_values(ascending=False)"
   ]
  },
  {
   "cell_type": "code",
   "execution_count": 23,
   "metadata": {},
   "outputs": [
    {
     "data": {
      "text/plain": [
       "estado_residencia   \n",
       "PR                 0    850\n",
       "RS                 0    850\n",
       "SC                 0    850\n",
       "Name: pontuacao_credito, dtype: int64"
      ]
     },
     "execution_count": 23,
     "metadata": {},
     "output_type": "execute_result"
    }
   ],
   "source": [
    "df.groupby(\"estado_residencia\")[\"pontuacao_credito\"].apply(pd.Series.mode)"
   ]
  },
  {
   "cell_type": "code",
   "execution_count": 24,
   "metadata": {},
   "outputs": [
    {
     "data": {
      "text/plain": [
       "estado_residencia\n",
       "RS    95.14\n",
       "SC    97.23\n",
       "PR    98.61\n",
       "Name: pontuacao_credito, dtype: float64"
      ]
     },
     "execution_count": 24,
     "metadata": {},
     "output_type": "execute_result"
    }
   ],
   "source": [
    "df.groupby(\"estado_residencia\")[\"pontuacao_credito\"].std().sort_values().round(2)"
   ]
  },
  {
   "cell_type": "markdown",
   "metadata": {},
   "source": [
    "Olhando todos estes valores, percebemos que há umas proximidade muito grande entre os valores de cada estado, como os valores de tendência central são muito parecidos podemos julgar que eles seguem uma distribuição normal (o que de fato ocorre e pode ser observadono gráfico abaixo). Poderimos até dizer que RS é o estado com melhor pontuação, porém, pode ter sido apenas acaso dos nossos dados e para a àrea de negócio talvez não tenhamos conseguido uma informação tão relevante de diferença entre os estados.\n",
    "\n",
    "--\n",
    "\n",
    "This values show us that have a close proximity between the states and how the central tends values are similar We can judge the 'estado_residencia' in each state has a normal distribution (what really happen and can be saw in the graph below). We could say that RS is the state with the better score, but, can be only random and to the business area maybe we don't get a information so relevant about the diference between the states."
   ]
  },
  {
   "cell_type": "code",
   "execution_count": 25,
   "metadata": {},
   "outputs": [
    {
     "data": {
      "image/png": "[encoded data removed]",
      "text/plain": [
       "<Figure size 432x288 with 3 Axes>"
      ]
     },
     "metadata": {
      "needs_background": "light"
     },
     "output_type": "display_data"
    }
   ],
   "source": [
    "fig, axs = plt.subplots(1,3)\n",
    "\n",
    "axs[0].set_title(\"RS\")\n",
    "axs[0].hist(df.query('estado_residencia == \"RS\"')[\"pontuacao_credito\"])\n",
    "\n",
    "axs[1].set_title(\"SC\")\n",
    "axs[1].hist(df.query('estado_residencia == \"SC\"')[\"pontuacao_credito\"])\n",
    "\n",
    "axs[2].set_title(\"PR\")\n",
    "axs[2].hist(df.query('estado_residencia == \"PR\"')[\"pontuacao_credito\"])\n",
    "\n",
    "plt.show()"
   ]
  },
  {
   "cell_type": "markdown",
   "metadata": {},
   "source": [
    "Apenas por curiosidade, vamos fazer essa avaliação também analisando por gênero. \n",
    "\n",
    "E, como vemos através da média, homens do RS tem a melhor média, seguido por homens de SC, contudo a menor média também é de SC, mas das mulheres\n",
    "\n",
    "--\n",
    "\n",
    "Just for curiosity, let's do the same analysis by gender too. \n",
    "\n",
    "And, as We can see through the average, men from RS has the better mean, followed by men from SC, however the less average is from SC too, but of the women.  "
   ]
  },
  {
   "cell_type": "code",
   "execution_count": 26,
   "metadata": {},
   "outputs": [
    {
     "data": {
      "text/plain": [
       "genero  estado_residencia\n",
       "M       RS                   652.23\n",
       "        SC                   650.76\n",
       "F       RS                   649.74\n",
       "M       PR                   649.31\n",
       "F       PR                   648.57\n",
       "        SC                   648.07\n",
       "Name: pontuacao_credito, dtype: float64"
      ]
     },
     "execution_count": 26,
     "metadata": {},
     "output_type": "execute_result"
    }
   ],
   "source": [
    "df.groupby([\"genero\",\"estado_residencia\"])[\"pontuacao_credito\"].mean().sort_values(ascending=False).round(2)"
   ]
  },
  {
   "cell_type": "markdown",
   "metadata": {},
   "source": [
    "### 6) Qual o gênero e estado dos maiores pontuadores? ( Which the gender and state of the customers that has max score?)"
   ]
  },
  {
   "cell_type": "code",
   "execution_count": 27,
   "metadata": {},
   "outputs": [
    {
     "data": {
      "text/html": [
       "<div>\n",
       "<style scoped>\n",
       "    .dataframe tbody tr th:only-of-type {\n",
       "        vertical-align: middle;\n",
       "    }\n",
       "\n",
       "    .dataframe tbody tr th {\n",
       "        vertical-align: top;\n",
       "    }\n",
       "\n",
       "    .dataframe thead th {\n",
       "        text-align: right;\n",
       "    }\n",
       "</style>\n",
       "<table border=\"1\" class=\"dataframe\">\n",
       "  <thead>\n",
       "    <tr style=\"text-align: right;\">\n",
       "      <th></th>\n",
       "      <th>id</th>\n",
       "      <th>pontuacao_credito</th>\n",
       "      <th>estado_residencia</th>\n",
       "      <th>genero</th>\n",
       "      <th>idade</th>\n",
       "      <th>nivel_estabilidade</th>\n",
       "      <th>saldo_conta</th>\n",
       "      <th>numero_produtos</th>\n",
       "      <th>possui_cartao_de_credito</th>\n",
       "      <th>membro_ativo</th>\n",
       "      <th>faixa_etaria</th>\n",
       "    </tr>\n",
       "  </thead>\n",
       "  <tbody>\n",
       "    <tr>\n",
       "      <th>2550</th>\n",
       "      <td>2576bd5fb3030608469880e743262f43897a81a0</td>\n",
       "      <td>850</td>\n",
       "      <td>SC</td>\n",
       "      <td>M</td>\n",
       "      <td>42</td>\n",
       "      <td>0</td>\n",
       "      <td>0.00</td>\n",
       "      <td>2</td>\n",
       "      <td>1</td>\n",
       "      <td>0</td>\n",
       "      <td>36-45</td>\n",
       "    </tr>\n",
       "    <tr>\n",
       "      <th>5380</th>\n",
       "      <td>6adc679884b7808227b483f2b2255df44350c668</td>\n",
       "      <td>850</td>\n",
       "      <td>RS</td>\n",
       "      <td>M</td>\n",
       "      <td>36</td>\n",
       "      <td>0</td>\n",
       "      <td>0.00</td>\n",
       "      <td>2</td>\n",
       "      <td>1</td>\n",
       "      <td>0</td>\n",
       "      <td>36-45</td>\n",
       "    </tr>\n",
       "    <tr>\n",
       "      <th>3774</th>\n",
       "      <td>77a2a54e487a14cb60d574a192341468da6aa9ff</td>\n",
       "      <td>850</td>\n",
       "      <td>SC</td>\n",
       "      <td>M</td>\n",
       "      <td>61</td>\n",
       "      <td>1</td>\n",
       "      <td>0.00</td>\n",
       "      <td>1</td>\n",
       "      <td>1</td>\n",
       "      <td>0</td>\n",
       "      <td>56-65</td>\n",
       "    </tr>\n",
       "    <tr>\n",
       "      <th>3918</th>\n",
       "      <td>15c83ac6f6c13a67cfb671a7d5a5ea36027961cd</td>\n",
       "      <td>850</td>\n",
       "      <td>SC</td>\n",
       "      <td>M</td>\n",
       "      <td>29</td>\n",
       "      <td>1</td>\n",
       "      <td>0.00</td>\n",
       "      <td>2</td>\n",
       "      <td>0</td>\n",
       "      <td>0</td>\n",
       "      <td>26-35</td>\n",
       "    </tr>\n",
       "    <tr>\n",
       "      <th>5663</th>\n",
       "      <td>d804c7f29b612e448a1c8910219a526fc25b3cb8</td>\n",
       "      <td>850</td>\n",
       "      <td>SC</td>\n",
       "      <td>F</td>\n",
       "      <td>38</td>\n",
       "      <td>2</td>\n",
       "      <td>0.00</td>\n",
       "      <td>2</td>\n",
       "      <td>1</td>\n",
       "      <td>0</td>\n",
       "      <td>36-45</td>\n",
       "    </tr>\n",
       "    <tr>\n",
       "      <th>...</th>\n",
       "      <td>...</td>\n",
       "      <td>...</td>\n",
       "      <td>...</td>\n",
       "      <td>...</td>\n",
       "      <td>...</td>\n",
       "      <td>...</td>\n",
       "      <td>...</td>\n",
       "      <td>...</td>\n",
       "      <td>...</td>\n",
       "      <td>...</td>\n",
       "      <td>...</td>\n",
       "    </tr>\n",
       "    <tr>\n",
       "      <th>1164</th>\n",
       "      <td>9c53560aff23f1d0512844168e20b6d3f0fd2b3e</td>\n",
       "      <td>850</td>\n",
       "      <td>SC</td>\n",
       "      <td>F</td>\n",
       "      <td>36</td>\n",
       "      <td>0</td>\n",
       "      <td>164850.54</td>\n",
       "      <td>1</td>\n",
       "      <td>1</td>\n",
       "      <td>1</td>\n",
       "      <td>36-45</td>\n",
       "    </tr>\n",
       "    <tr>\n",
       "      <th>2651</th>\n",
       "      <td>699a2e173e71ae27ae7b09d0ca97f5f97b080359</td>\n",
       "      <td>850</td>\n",
       "      <td>PR</td>\n",
       "      <td>M</td>\n",
       "      <td>40</td>\n",
       "      <td>4</td>\n",
       "      <td>166082.15</td>\n",
       "      <td>2</td>\n",
       "      <td>0</td>\n",
       "      <td>1</td>\n",
       "      <td>36-45</td>\n",
       "    </tr>\n",
       "    <tr>\n",
       "      <th>4674</th>\n",
       "      <td>631d97f5beb62957142c1236017f7ff4aab85668</td>\n",
       "      <td>850</td>\n",
       "      <td>PR</td>\n",
       "      <td>M</td>\n",
       "      <td>41</td>\n",
       "      <td>1</td>\n",
       "      <td>176958.46</td>\n",
       "      <td>2</td>\n",
       "      <td>0</td>\n",
       "      <td>1</td>\n",
       "      <td>36-45</td>\n",
       "    </tr>\n",
       "    <tr>\n",
       "      <th>4533</th>\n",
       "      <td>c447e6f8d4c22e56157c76bd384a02b9cd07685a</td>\n",
       "      <td>850</td>\n",
       "      <td>RS</td>\n",
       "      <td>M</td>\n",
       "      <td>39</td>\n",
       "      <td>6</td>\n",
       "      <td>206014.94</td>\n",
       "      <td>2</td>\n",
       "      <td>0</td>\n",
       "      <td>1</td>\n",
       "      <td>36-45</td>\n",
       "    </tr>\n",
       "    <tr>\n",
       "      <th>1533</th>\n",
       "      <td>72c55878ee9abd82660989323055aef606481dd0</td>\n",
       "      <td>850</td>\n",
       "      <td>SC</td>\n",
       "      <td>F</td>\n",
       "      <td>37</td>\n",
       "      <td>3</td>\n",
       "      <td>212778.20</td>\n",
       "      <td>1</td>\n",
       "      <td>0</td>\n",
       "      <td>1</td>\n",
       "      <td>36-45</td>\n",
       "    </tr>\n",
       "  </tbody>\n",
       "</table>\n",
       "<p>167 rows × 11 columns</p>\n",
       "</div>"
      ],
      "text/plain": [
       "                                            id  pontuacao_credito  \\\n",
       "2550  2576bd5fb3030608469880e743262f43897a81a0                850   \n",
       "5380  6adc679884b7808227b483f2b2255df44350c668                850   \n",
       "3774  77a2a54e487a14cb60d574a192341468da6aa9ff                850   \n",
       "3918  15c83ac6f6c13a67cfb671a7d5a5ea36027961cd                850   \n",
       "5663  d804c7f29b612e448a1c8910219a526fc25b3cb8                850   \n",
       "...                                        ...                ...   \n",
       "1164  9c53560aff23f1d0512844168e20b6d3f0fd2b3e                850   \n",
       "2651  699a2e173e71ae27ae7b09d0ca97f5f97b080359                850   \n",
       "4674  631d97f5beb62957142c1236017f7ff4aab85668                850   \n",
       "4533  c447e6f8d4c22e56157c76bd384a02b9cd07685a                850   \n",
       "1533  72c55878ee9abd82660989323055aef606481dd0                850   \n",
       "\n",
       "     estado_residencia genero  idade  nivel_estabilidade  saldo_conta  \\\n",
       "2550                SC      M     42                   0         0.00   \n",
       "5380                RS      M     36                   0         0.00   \n",
       "3774                SC      M     61                   1         0.00   \n",
       "3918                SC      M     29                   1         0.00   \n",
       "5663                SC      F     38                   2         0.00   \n",
       "...                ...    ...    ...                 ...          ...   \n",
       "1164                SC      F     36                   0    164850.54   \n",
       "2651                PR      M     40                   4    166082.15   \n",
       "4674                PR      M     41                   1    176958.46   \n",
       "4533                RS      M     39                   6    206014.94   \n",
       "1533                SC      F     37                   3    212778.20   \n",
       "\n",
       "      numero_produtos  possui_cartao_de_credito  membro_ativo faixa_etaria  \n",
       "2550                2                         1             0        36-45  \n",
       "5380                2                         1             0        36-45  \n",
       "3774                1                         1             0        56-65  \n",
       "3918                2                         0             0        26-35  \n",
       "5663                2                         1             0        36-45  \n",
       "...               ...                       ...           ...          ...  \n",
       "1164                1                         1             1        36-45  \n",
       "2651                2                         0             1        36-45  \n",
       "4674                2                         0             1        36-45  \n",
       "4533                2                         0             1        36-45  \n",
       "1533                1                         0             1        36-45  \n",
       "\n",
       "[167 rows x 11 columns]"
      ]
     },
     "execution_count": 27,
     "metadata": {},
     "output_type": "execute_result"
    }
   ],
   "source": [
    "score_850 = df.query('pontuacao_credito == 850').sort_values(by=[\"membro_ativo\", \"saldo_conta\", \"nivel_estabilidade\"])\n",
    "score_850"
   ]
  },
  {
   "cell_type": "code",
   "execution_count": 28,
   "metadata": {},
   "outputs": [
    {
     "data": {
      "text/plain": [
       "genero  estado_residencia  pontuacao_credito\n",
       "M       SC                 850                  45\n",
       "F       SC                 850                  33\n",
       "M       PR                 850                  26\n",
       "        RS                 850                  21\n",
       "F       RS                 850                  21\n",
       "        PR                 850                  21\n",
       "Name: pontuacao_credito, dtype: int64"
      ]
     },
     "execution_count": 28,
     "metadata": {},
     "output_type": "execute_result"
    }
   ],
   "source": [
    "score_850.groupby([\"genero\", \"estado_residencia\"])[\"pontuacao_credito\"].value_counts().sort_values(ascending=False)"
   ]
  },
  {
   "cell_type": "code",
   "execution_count": 29,
   "metadata": {},
   "outputs": [
    {
     "data": {
      "image/png": "[encoded data removed]",
      "text/plain": [
       "<Figure size 432x288 with 1 Axes>"
      ]
     },
     "metadata": {
      "needs_background": "light"
     },
     "output_type": "display_data"
    }
   ],
   "source": [
    "sns.countplot(x=\"estado_residencia\", hue=\"genero\", data=score_850, order = score_850['estado_residencia'].value_counts().index)\n",
    "sns.set(style=\"whitegrid\", palette=\"Paired\", font_scale=1.1, rc={\"figure.figsize\": [12,5]})\n",
    "plt.title(\"Estado com maior quantidade de pontuação máxima\")\n",
    "plt.show()"
   ]
  },
  {
   "cell_type": "markdown",
   "metadata": {},
   "source": [
    "SC tem a maioria dos consumidores com pontuação maxima, chegando a ser - no caso dos homens de SC - o dobro de consumidores em relação ao RS e as mulheres do PR e isso é algo que poderia ser melhor investigado para entender como consumidores de SC tem tido mais valores máximos. \n",
    "\n",
    "--\n",
    "\n",
    "SC has the most customers with max score, in this case, the quantity of men from SC is twice than RS and the women from PR and this is something that could be better investigated to understand how SC consumers have had more maximum values."
   ]
  },
  {
   "cell_type": "markdown",
   "metadata": {},
   "source": [
    "### 8) Membros ativos tem pontuação melhor que inativos? (Active member has better score than inactive members?)\n",
    "\n",
    "Segundo a nossa análise inicial de correlação entre os valores, entendemos que a variável 'membro_ativo' tem uma relavância alta, mas será que existe uma diferença tão grande entre as pontuações dos membros ativos e dos inativos?\n",
    "\n",
    "--\n",
    "\n",
    "According the beginning of our analysis, when we saw the correlation between the variables, We understand that ''membro_ativo' has a high relevance,  but is there such a big difference between the scores of active and inactive members?"
   ]
  },
  {
   "cell_type": "code",
   "execution_count": 30,
   "metadata": {},
   "outputs": [
    {
     "data": {
      "text/plain": [
       "membro_ativo\n",
       "1    653.01\n",
       "0    646.41\n",
       "Name: pontuacao_credito, dtype: float64"
      ]
     },
     "execution_count": 30,
     "metadata": {},
     "output_type": "execute_result"
    }
   ],
   "source": [
    "df.groupby(\"membro_ativo\")[\"pontuacao_credito\"].mean().sort_values(ascending=False).round(2)"
   ]
  },
  {
   "cell_type": "code",
   "execution_count": 31,
   "metadata": {},
   "outputs": [
    {
     "data": {
      "text/plain": [
       "membro_ativo\n",
       "1    654\n",
       "0    648\n",
       "Name: pontuacao_credito, dtype: int64"
      ]
     },
     "execution_count": 31,
     "metadata": {},
     "output_type": "execute_result"
    }
   ],
   "source": [
    "df.groupby(\"membro_ativo\")[\"pontuacao_credito\"].median().sort_values(ascending=False).round(2)"
   ]
  },
  {
   "cell_type": "markdown",
   "metadata": {},
   "source": [
    "Se levarmos em consideração que as outras comparações que fizemos não tiveram tantas diferenças, podemos considerar que está possui, entretando não acredito que nos dê embasamento suficiente para afirmar que é o que de fato divide os consumidores entre bons e ruins. \n",
    "\n",
    "--\n",
    "\n",
    "If We take into account the other comparisons We made did has so many differences, We can considerer that it is, but, I don't believe that it is enough to conclude that 'membros_ativos' is what divide customers between good and bad."
   ]
  },
  {
   "cell_type": "markdown",
   "metadata": {},
   "source": [
    "## Conclusões finais (Final conclusions)\n",
    "\n",
    "Depois de toda esta nossa análise, podemos concluir que não temos grandes conclusões sobre estes nossos dados. Sim, isso pode acontecer, rs (após longa análise, entender que nada deu certo ou que está tudo errado, ou que não temos dados suficientes para chegar a conclusões que nos dêem embasamento para tomar decisões). \n",
    "O que indico neste caso é novamente conversar com a àrea de negócio e diante destes dados, propor fazer a mesma análise com uma nova base, tentar levantar novas hipóteses, tentar entender melhor a escala dos valores, pois, o que a princípio não parece ser uma grande diferença (ex.: 2 pontos de diferença entre as médias) talvez tenham de fato uma grande relevância e que nos levará a investigar melhor além dos dados o que os causou e o que poderá ser feito a partir disto. \n",
    "\n",
    "--\n",
    "\n",
    "After all our analysis, we can conclude that we haven't great conclusions about this data. Yes, it can happens, rs (after a deep analysis, understand that nothing got right or everything is wrong or we haven't enough data to support take decisions).\n",
    "What We indicate in this case is talk again with the business area and propose do the same analysis with other dataset, try take another hypotesis, try understand the values scale, because what can be seem as a low differrence (ex.: 2 points of difference between the mean values) might present a great relevance and what will lead us to a better investigantion byond the data, what cause them and what can be done from this. "
   ]
  },
  {
   "cell_type": "markdown",
   "metadata": {},
   "source": [
    "## Obrigado\n",
    "Contato:\n",
    "\n",
    "**Gustavo Sousa**\n",
    "\n",
    "(21) 98010-7576\n",
    "\n",
    "gustavosousash@gmail.com\n",
    "\n",
    "LinkedIn: https://www.linkedin.com/in/gustavosousash/\n",
    "\n",
    "Portfólio: https://github.com/gustavoshalom/Data-Science/blob/master/README.md"
   ]
  },
  {
   "cell_type": "code",
   "execution_count": null,
   "metadata": {},
   "outputs": [],
   "source": []
  }
 ],
 "metadata": {
  "kernelspec": {
   "display_name": "Python 3",
   "language": "python",
   "name": "python3"
  },
  "language_info": {
   "codemirror_mode": {
    "name": "ipython",
    "version": 3
   },
   "file_extension": ".py",
   "mimetype": "text/x-python",
   "name": "python",
   "nbconvert_exporter": "python",
   "pygments_lexer": "ipython3",
   "version": "3.7.6"
  }
 },
 "nbformat": 4,
 "nbformat_minor": 4
}
